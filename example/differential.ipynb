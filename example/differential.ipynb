{
 "cells": [
  {
   "cell_type": "markdown",
   "metadata": {},
   "source": [
    "## Training a DifferentialMaxtree\n",
    "\n",
    "This notebook presents examples on how the DifferentialMaxtree can be used to create filters based on connected components filtering."
   ]
  },
  {
   "cell_type": "code",
   "execution_count": 2,
   "metadata": {},
   "outputs": [
    {
     "name": "stdout",
     "output_type": "stream",
     "text": [
      "Populating the interactive namespace from numpy and matplotlib\n"
     ]
    },
    {
     "name": "stderr",
     "output_type": "stream",
     "text": [
      "/home/ANT.AMAZON.COM/lgueguen/anaconda3/envs/maxtree/lib/python3.8/site-packages/IPython/core/magics/pylab.py:159: UserWarning: pylab import has clobbered these variables: ['display']\n",
      "`%matplotlib` prevents importing * from pylab and numpy\n",
      "  warn(\"pylab import has clobbered these variables: %s\"  % clobbered +\n"
     ]
    }
   ],
   "source": [
    "%pylab inline\n",
    "rcParams['figure.figsize'] = (16,16)\n",
    "import torch\n",
    "import numpy as np\n",
    "from maxtree.maxtree_torch import DifferentialMaxtree\n",
    "from IPython import display\n",
    "\n",
    "def always_true(xmin, ymin, xmax, ymax):\n",
    "    return true\n",
    "\n",
    "def small_area(xmin, ymin, xmax, ymax):\n",
    "    area = (xmax-xmin) * (ymax - ymin)\n",
    "    return area < 25\n",
    "\n",
    "def small_recs(b, num_c, h, w, num_rect=2, max_size=10, criteria_fun=always_true):\n",
    "    \"\"\"\n",
    "    Synthesize inputs and outputs\n",
    "    \"\"\"\n",
    "    inputt = torch.zeros(b, num_c, h, w)\n",
    "    output = torch.zeros(b, num_c, h, w)\n",
    "    for bb in range(b):\n",
    "        for nn in range(num_c):\n",
    "            for rect_id in range(num_rect):\n",
    "                ymin = np.random.randint(h-1)\n",
    "                ymax = ymin + np.random.randint(min(h-ymin, max_size))\n",
    "                xmin = np.random.randint(w-1)\n",
    "                xmax = xmin + np.random.randint(min(w-xmin, max_size))\n",
    "                \n",
    "                inputt[bb, nn, ymin:ymax, xmin:xmax] += 1\n",
    "                \n",
    "                if criteria_fun(xmin, ymin, xmax, ymax):\n",
    "                    output[bb, nn, ymin:ymax, xmin:xmax] += 1\n",
    "    return inputt, output"
   ]
  },
  {
   "cell_type": "markdown",
   "metadata": {},
   "source": [
    "### Train a DifferentialMaxtree to filter small area rectangles"
   ]
  },
  {
   "cell_type": "code",
   "execution_count": 3,
   "metadata": {},
   "outputs": [
    {
     "data": {
      "image/png": "[encoded data removed]",
      "text/plain": [
       "<Figure size 1152x1152 with 3 Axes>"
      ]
     },
     "metadata": {
      "needs_background": "light"
     },
     "output_type": "display_data"
    }
   ],
   "source": [
    "\n",
    "b, nc, h, w = 10, 1, 64, 96\n",
    "model = DifferentialMaxtree(num_channels=1)\n",
    "model.initialize()\n",
    "optimizer = torch.optim.Adam(model.parameters(), 0.001)\n",
    "\n",
    "def small_area(xmin, ymin, xmax, ymax):\n",
    "    area = (xmax-xmin) * (ymax - ymin)\n",
    "    return area < 25\n",
    "\n",
    "for epoch in range(50):\n",
    "\n",
    "    for i in range(100):\n",
    "        x, y = small_recs(b, 1, h, w, num_rect=5, max_size=10, criteria_fun=small_area)\n",
    "        optimizer.zero_grad()\n",
    "        filtered = model(x)\n",
    "        loss = torch.nn.MSELoss()(filtered, y)\n",
    "        loss.backward()\n",
    "        optimizer.step()\n",
    "\n",
    "\n",
    "    subplot(1,3,1)\n",
    "    imshow(x[0,0].numpy())\n",
    "    title('input')\n",
    "\n",
    "    subplot(1,3,2)\n",
    "    imshow(y[0,0].numpy())\n",
    "    title('target')\n",
    "\n",
    "    subplot(1,3,3)\n",
    "    imshow(filtered[0,0].detach().numpy())\n",
    "    title(f'predicted {filtered[0,0].detach().numpy().max()}')\n",
    "\n",
    "    show()\n",
    "    display.clear_output(wait=True)\n",
    "\n",
    "\n"
   ]
  },
  {
   "cell_type": "markdown",
   "metadata": {},
   "source": [
    "### Train a DifferentialMaxtree to filter horizontal rectangles"
   ]
  },
  {
   "cell_type": "code",
   "execution_count": 7,
   "metadata": {},
   "outputs": [
    {
     "data": {
      "image/png": "[encoded data removed]",
      "text/plain": [
       "<Figure size 1152x1152 with 3 Axes>"
      ]
     },
     "metadata": {
      "needs_background": "light"
     },
     "output_type": "display_data"
    }
   ],
   "source": [
    "b, nc, h, w = 10, 1, 64, 96\n",
    "model = DifferentialMaxtree(num_channels=1)\n",
    "model.initialize()\n",
    "optimizer = torch.optim.Adam(model.parameters(), 0.001)\n",
    "\n",
    "def horizontal_rect(xmin, ymin, xmax, ymax):\n",
    "    ratio = (xmax-xmin) / (ymax - ymin + 1)\n",
    "    return ratio > 1.25\n",
    "\n",
    "for epoch in range(50):\n",
    "\n",
    "    for i in range(100):\n",
    "        x, y = small_recs(b, 1, h, w, num_rect=5, max_size=10, criteria_fun=horizontal_rect)\n",
    "        optimizer.zero_grad()\n",
    "        filtered = model(x)\n",
    "        loss = torch.nn.MSELoss()(filtered, y)\n",
    "        loss.backward()\n",
    "        optimizer.step()\n",
    "\n",
    "\n",
    "    subplot(1,3,1)\n",
    "    imshow(x[0,0].numpy())\n",
    "    title('input')\n",
    "\n",
    "    subplot(1,3,2)\n",
    "    imshow(y[0,0].numpy())\n",
    "    title('target')\n",
    "\n",
    "    subplot(1,3,3)\n",
    "    imshow(filtered[0,0].detach().numpy())\n",
    "    title(f'predicted {filtered[0,0].detach().numpy().max()}')\n",
    "\n",
    "    show()\n",
    "    display.clear_output(wait=True)"
   ]
  },
  {
   "cell_type": "markdown",
   "metadata": {},
   "source": [
    "### Train to filter rectangle in an area range"
   ]
  },
  {
   "cell_type": "code",
   "execution_count": 28,
   "metadata": {},
   "outputs": [],
   "source": [
    "\n",
    "class Model(torch.nn.Module):\n",
    "    def __init__(self):\n",
    "        super().__init__()\n",
    "        self.nb_channels = 2\n",
    "        self.diff_maxtree = DifferentialMaxtree(num_channels= self.nb_channels)\n",
    "        \n",
    "    def forward(self, inputt):\n",
    "        inputt_stacked = torch.cat([inputt]*self.nb_channels, dim = 1)\n",
    "        filtered_output = self.diff_maxtree(inputt_stacked)\n",
    "        return filtered_output.min(dim=1, keepdim=True)[0]\n",
    "    \n",
    "    def initialize(self):\n",
    "        self.diff_maxtree.initialize()\n",
    "    \n",
    "\n",
    "model = Model()\n",
    "model.initialize()\n",
    "optimizer = torch.optim.Adam(model.parameters(), 0.001)"
   ]
  },
  {
   "cell_type": "code",
   "execution_count": 29,
   "metadata": {},
   "outputs": [
    {
     "data": {
      "image/png": "[encoded data removed]",
      "text/plain": [
       "<Figure size 1152x1152 with 3 Axes>"
      ]
     },
     "metadata": {
      "needs_background": "light"
     },
     "output_type": "display_data"
    }
   ],
   "source": [
    "def area_range(xmin, ymin, xmax, ymax):\n",
    "    area = (xmax-xmin) * (ymax - ymin )\n",
    "    return 25 < area and area < 50\n",
    "\n",
    "for epoch in range(50):\n",
    "\n",
    "    for i in range(100):\n",
    "        x, y = small_recs(b, 1, h, w, num_rect=5, max_size=10, criteria_fun=area_range)\n",
    "        optimizer.zero_grad()\n",
    "        filtered = model(x)\n",
    "        loss = torch.nn.MSELoss()(filtered, y)\n",
    "        loss.backward()\n",
    "        optimizer.step()\n",
    "\n",
    "\n",
    "    subplot(1,3,1)\n",
    "    imshow(x[0,0].numpy())\n",
    "    title('input')\n",
    "\n",
    "    subplot(1,3,2)\n",
    "    imshow(y[0,0].numpy())\n",
    "    title('target')\n",
    "\n",
    "    subplot(1,3,3)\n",
    "    imshow(filtered[0,0].detach().numpy() > .5)\n",
    "    title(f'predicted {filtered[0,0].detach().numpy().max()}')\n",
    "\n",
    "    show()\n",
    "    display.clear_output(wait=True)"
   ]
  },
  {
   "cell_type": "code",
   "execution_count": 27,
   "metadata": {},
   "outputs": [
    {
     "data": {
      "text/plain": [
       "<matplotlib.image.AxesImage at 0x7f43c26327f0>"
      ]
     },
     "execution_count": 27,
     "metadata": {},
     "output_type": "execute_result"
    },
    {
     "data": {
      "image/png": "[encoded data removed]",
      "text/plain": [
       "<Figure size 1152x1152 with 3 Axes>"
      ]
     },
     "metadata": {
      "needs_background": "light"
     },
     "output_type": "display_data"
    }
   ],
   "source": [
    "inputt_stacked = torch.cat([x]*model.nb_channels, dim = 1)\n",
    "filtered_output = model.diff_maxtree(inputt_stacked)\n",
    "\n",
    "subplot(1,2,1)\n",
    "imshow(filtered_output[0,0].detach().numpy())\n",
    "\n",
    "subplot(1,2,2)\n",
    "imshow(filtered_output[0,1].detach().numpy())\n"
   ]
  },
  {
   "cell_type": "code",
   "execution_count": null,
   "metadata": {},
   "outputs": [],
   "source": []
  }
 ],
 "metadata": {
  "kernelspec": {
   "display_name": "Python 3",
   "language": "python",
   "name": "python3"
  },
  "language_info": {
   "codemirror_mode": {
    "name": "ipython",
    "version": 3
   },
   "file_extension": ".py",
   "mimetype": "text/x-python",
   "name": "python",
   "nbconvert_exporter": "python",
   "pygments_lexer": "ipython3",
   "version": "3.8.5"
  }
 },
 "nbformat": 4,
 "nbformat_minor": 4
}
